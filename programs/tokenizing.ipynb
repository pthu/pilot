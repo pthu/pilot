{
 "cells": [
  {
   "cell_type": "code",
   "execution_count": 13,
   "metadata": {},
   "outputs": [],
   "source": [
    "import operator\n",
    "from functools import reduce\n",
    "from unicodedata import category, normalize"
   ]
  },
  {
   "cell_type": "code",
   "execution_count": 14,
   "metadata": {},
   "outputs": [],
   "source": [
    "letter = {'L'}\n",
    "dia = {'M'}\n",
    "NFD = 'NFD'\n",
    "letter_dia = {'L', 'M'}"
   ]
  },
  {
   "cell_type": "code",
   "execution_count": 15,
   "metadata": {},
   "outputs": [],
   "source": [
    "def splitWord(word, norm=NFD): \n",
    "    w = normalize(NFD, word)\n",
    "    tokens = ()\n",
    "    pP = 0\n",
    "    for i in range(len(w)):\n",
    "        if category(w[i])[0] not in letter_dia:\n",
    "            pP += 1\n",
    "        else:\n",
    "            break\n",
    "    pW = pP\n",
    "    for i in range(pP, len(w)):\n",
    "        if category(w[i])[0] in letter_dia:\n",
    "            pW += 1\n",
    "        else:\n",
    "            break\n",
    "    realWord = w[pP:pW]\n",
    "    pA = pW\n",
    "    for i in range(pW, len(w)):\n",
    "        if category(w[i])[0] not in letter_dia:\n",
    "            pA += 1\n",
    "        else:\n",
    "            break\n",
    "    return (realWord,) + (splitWord(w[pA:]) if pA < len(w) else ())\n",
    "\n",
    "def tokenize(sentence, norm=NFD):\n",
    "    return reduce(\n",
    "        operator.add,\n",
    "        (splitWord(word, norm=NFD) for word in sentence.strip().split()),\n",
    "        (),\n",
    "    )"
   ]
  },
  {
   "cell_type": "code",
   "execution_count": 16,
   "metadata": {},
   "outputs": [],
   "source": [
    "example = '''\n",
    "λέγει αὐτοῖς Τί ζητεῖτε; οἱ δὲ εἶπαν αὐτῷ Ῥαββεί,\n",
    "?̔ὃ λέγεται μεθερμηνευόμενον Διδάσκαλε?̓ ποῦ μένεις; \n",
    "'''"
   ]
  },
  {
   "cell_type": "code",
   "execution_count": 17,
   "metadata": {},
   "outputs": [
    {
     "data": {
      "text/plain": [
       "('λέγει',\n",
       " 'αὐτοῖς',\n",
       " 'Τί',\n",
       " 'ζητεῖτε',\n",
       " 'οἱ',\n",
       " 'δὲ',\n",
       " 'εἶπαν',\n",
       " 'αὐτῷ',\n",
       " 'Ῥαββεί',\n",
       " '̔ὃ',\n",
       " 'λέγεται',\n",
       " 'μεθερμηνευόμενον',\n",
       " 'Διδάσκαλε',\n",
       " '̓',\n",
       " 'ποῦ',\n",
       " 'μένεις')"
      ]
     },
     "execution_count": 17,
     "metadata": {},
     "output_type": "execute_result"
    }
   ],
   "source": [
    "tokenize(example)"
   ]
  },
  {
   "cell_type": "code",
   "execution_count": 18,
   "metadata": {},
   "outputs": [],
   "source": [
    "contrivedExample = '''\n",
    "λέγει.αὐτοῖς:Τί ζητεῖτε;οἱ δὲ123εἶπαν αὐτῷ Ῥαββεί,\n",
    "?̔ὃ λέγεται μεθερμηνευόμενον Διδάσκαλε?̓ ποῦ μένεις; \n",
    "'''"
   ]
  },
  {
   "cell_type": "code",
   "execution_count": 19,
   "metadata": {},
   "outputs": [
    {
     "data": {
      "text/plain": [
       "('λέγει',\n",
       " 'αὐτοῖς',\n",
       " 'Τί',\n",
       " 'ζητεῖτε',\n",
       " 'οἱ',\n",
       " 'δὲ',\n",
       " 'εἶπαν',\n",
       " 'αὐτῷ',\n",
       " 'Ῥαββεί',\n",
       " '̔ὃ',\n",
       " 'λέγεται',\n",
       " 'μεθερμηνευόμενον',\n",
       " 'Διδάσκαλε',\n",
       " '̓',\n",
       " 'ποῦ',\n",
       " 'μένεις')"
      ]
     },
     "execution_count": 19,
     "metadata": {},
     "output_type": "execute_result"
    }
   ],
   "source": [
    "tokenize(contrivedExample)\n"
   ]
  },
  {
   "cell_type": "code",
   "execution_count": null,
   "metadata": {},
   "outputs": [],
   "source": []
  }
 ],
 "metadata": {
  "kernelspec": {
   "display_name": "Python 3",
   "language": "python",
   "name": "python3"
  },
  "language_info": {
   "codemirror_mode": {
    "name": "ipython",
    "version": 3
   },
   "file_extension": ".py",
   "mimetype": "text/x-python",
   "name": "python",
   "nbconvert_exporter": "python",
   "pygments_lexer": "ipython3",
   "version": "3.7.0"
  }
 },
 "nbformat": 4,
 "nbformat_minor": 2
}

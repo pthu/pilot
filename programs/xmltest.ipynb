{
 "cells": [
  {
   "cell_type": "code",
   "execution_count": 1,
   "metadata": {},
   "outputs": [],
   "source": [
    "import xml.etree.ElementTree as ET"
   ]
  },
  {
   "cell_type": "code",
   "execution_count": 2,
   "metadata": {},
   "outputs": [],
   "source": [
    "sources = [\n",
    "  '''<?xml version=\"1.0\" encoding=\"UTF-8\"?>\n",
    "<p>aap <b>noot <i>mies</i> gijs</b> karel</p>\n",
    "''',\n",
    "  '''<?xml version=\"1.0\" encoding=\"UTF-8\"?>\n",
    "<p>aap <b>noot</b> mies <i>gijs</i> karel</p>\n",
    "''',\n",
    "]"
   ]
  },
  {
   "cell_type": "code",
   "execution_count": 22,
   "metadata": {},
   "outputs": [],
   "source": [
    "def parse():\n",
    "  for src in sources:\n",
    "    print(src)\n",
    "    root = ET.fromstring(src)\n",
    "    walkNode(root, 0, [])\n",
    "    print('')\n",
    "    \n",
    "def walkNode(node, level, surround):\n",
    "  indent = ' '* level\n",
    "  tag = node.tag\n",
    "  surroundStr = ':'.join(surround + [tag])\n",
    "  print(f'WITHIN {surroundStr}')\n",
    "  print(f'{indent} \"{node.text}\"')\n",
    "  for child in node:\n",
    "    walkNode(child, level + 1, surround + [node.tag])\n",
    "  if node.tail is not None:\n",
    "    surroundStr = ':'.join(surround)\n",
    "    print(f'WITHIN {surroundStr}')\n",
    "    print(f'{indent}\"{node.tail}\"')\n"
   ]
  },
  {
   "cell_type": "code",
   "execution_count": 23,
   "metadata": {},
   "outputs": [
    {
     "name": "stdout",
     "output_type": "stream",
     "text": [
      "<?xml version=\"1.0\" encoding=\"UTF-8\"?>\n",
      "<p>aap <b>noot <i>mies</i> gijs</b> karel</p>\n",
      "\n",
      "WITHIN p\n",
      " \"aap \"\n",
      "WITHIN p:b\n",
      "  \"noot \"\n",
      "WITHIN p:b:i\n",
      "   \"mies\"\n",
      "WITHIN p:b\n",
      "  \" gijs\"\n",
      "WITHIN p\n",
      " \" karel\"\n",
      "\n",
      "<?xml version=\"1.0\" encoding=\"UTF-8\"?>\n",
      "<p>aap <b>noot</b> mies <i>gijs</i> karel</p>\n",
      "\n",
      "WITHIN p\n",
      " \"aap \"\n",
      "WITHIN p:b\n",
      "  \"noot\"\n",
      "WITHIN p\n",
      " \" mies \"\n",
      "WITHIN p:i\n",
      "  \"gijs\"\n",
      "WITHIN p\n",
      " \" karel\"\n",
      "\n"
     ]
    }
   ],
   "source": [
    "parse()"
   ]
  },
  {
   "cell_type": "code",
   "execution_count": null,
   "metadata": {},
   "outputs": [],
   "source": []
  }
 ],
 "metadata": {
  "kernelspec": {
   "display_name": "Python 3",
   "language": "python",
   "name": "python3"
  },
  "language_info": {
   "codemirror_mode": {
    "name": "ipython",
    "version": 3
   },
   "file_extension": ".py",
   "mimetype": "text/x-python",
   "name": "python",
   "nbconvert_exporter": "python",
   "pygments_lexer": "ipython3",
   "version": "3.7.2"
  }
 },
 "nbformat": 4,
 "nbformat_minor": 2
}

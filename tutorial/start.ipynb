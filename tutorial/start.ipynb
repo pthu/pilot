{
 "cells": [
  {
   "cell_type": "markdown",
   "metadata": {},
   "source": [
    "![tf](images/tficon-small.png)\n",
    "\n",
    "# Tutorial\n",
    "\n",
    "We show the basic functions of the\n",
    "[TF-API](https://dans-labs.github.io/text-fabric/Api/General/).\n",
    "\n",
    "See this [readme](https://github.com/pthu/pilot) for more information about\n",
    "the corpus and this work.\n",
    "\n",
    "Start with a cell that enables live reloading: if you change imported modules,\n",
    "the changes will be effective without restarting the notebook."
   ]
  },
  {
   "cell_type": "code",
   "execution_count": 1,
   "metadata": {},
   "outputs": [],
   "source": [
    "%load_ext autoreload\n",
    "%autoreload 2"
   ]
  },
  {
   "cell_type": "markdown",
   "metadata": {},
   "source": [
    "Import Text-Fabric"
   ]
  },
  {
   "cell_type": "code",
   "execution_count": 2,
   "metadata": {},
   "outputs": [],
   "source": [
    "from tf.fabric import Fabric"
   ]
  },
  {
   "cell_type": "markdown",
   "metadata": {},
   "source": [
    "Put in a few sign posts to directories on your computer."
   ]
  },
  {
   "cell_type": "code",
   "execution_count": 3,
   "metadata": {},
   "outputs": [],
   "source": [
    "REPO = '~/github/pthu/pilot'"
   ]
  },
  {
   "cell_type": "markdown",
   "metadata": {},
   "source": [
    "Start Text-Fabric and let it look in the relevant data directories."
   ]
  },
  {
   "cell_type": "code",
   "execution_count": 4,
   "metadata": {},
   "outputs": [
    {
     "name": "stdout",
     "output_type": "stream",
     "text": [
      "This is Text-Fabric 5.5.11\n",
      "Api reference : https://dans-labs.github.io/text-fabric/Api/General/\n",
      "Tutorial      : https://github.com/Dans-labs/text-fabric/blob/master/docs/tutorial.ipynb\n",
      "Example data  : https://github.com/Dans-labs/text-fabric-data\n",
      "\n",
      "14 features found and 0 ignored\n"
     ]
    }
   ],
   "source": [
    "TF = Fabric(locations=REPO, modules=['tf'])"
   ]
  },
  {
   "cell_type": "markdown",
   "metadata": {},
   "source": [
    "Load all features that TF has found."
   ]
  },
  {
   "cell_type": "code",
   "execution_count": 16,
   "metadata": {},
   "outputs": [
    {
     "name": "stdout",
     "output_type": "stream",
     "text": [
      "Features:\n",
      "book, book@en, chapter, main, orig, otype, page, para, plain, post, pre, verse, oslots\n"
     ]
    }
   ],
   "source": [
    "api = TF.load('', silent=True)\n",
    "allFeatures = TF.explore(silent=True, show=True)\n",
    "loadableFeatures = allFeatures['nodes'] + allFeatures['edges']\n",
    "print('Features:')\n",
    "print(', '.join(loadableFeatures))\n",
    "TF.load(loadableFeatures, add=True, silent=True)\n",
    "api.makeAvailableIn(globals())"
   ]
  },
  {
   "cell_type": "markdown",
   "metadata": {},
   "source": [
    "# Feature analysis\n",
    "\n",
    "Let's explore the values of some features and show their frequencies, especially the potentially\n",
    "troublesome features that contain non-letter material at the start and end of words."
   ]
  },
  {
   "cell_type": "code",
   "execution_count": 6,
   "metadata": {},
   "outputs": [
    {
     "name": "stdout",
     "output_type": "stream",
     "text": [
      "[            74x\n",
      "—             7x\n",
      "?̔            4x\n",
      "⟦             1x\n"
     ]
    }
   ],
   "source": [
    "for (val, freq) in F.pre.freqList():\n",
    "    print(f'{val:<10} {freq:>4}x')"
   ]
  },
  {
   "cell_type": "code",
   "execution_count": 7,
   "metadata": {},
   "outputs": [
    {
     "name": "stdout",
     "output_type": "stream",
     "text": [
      "           13546x\n",
      ",           816x\n",
      ".           679x\n",
      "·           295x\n",
      ";           170x\n",
      "]            68x\n",
      "].            3x\n",
      "̓.            3x\n",
      ".]            2x\n",
      "?̔            2x\n",
      "*             1x\n",
      ",             1x\n",
      ",—            1x\n",
      ".⟧            1x\n",
      "?̓            1x\n",
      "[,            1x\n",
      "],            1x\n",
      "]·            1x\n",
      "·?̔           1x\n",
      "·̓            1x\n"
     ]
    }
   ],
   "source": [
    "for (val, freq) in F.post.freqList():\n",
    "    print(f'{val:<10} {freq:>4}x')"
   ]
  },
  {
   "cell_type": "markdown",
   "metadata": {},
   "source": [
    "We can show frequency lists of more interesting features as well:"
   ]
  },
  {
   "cell_type": "code",
   "execution_count": 8,
   "metadata": {},
   "outputs": [
    {
     "name": "stdout",
     "output_type": "stream",
     "text": [
      "ΚΑΙ         827x\n",
      "Ο           583x\n",
      "ΟΤΙ         274x\n",
      "ΤΟΥ         242x\n",
      "ΤΟΝ         240x\n",
      "ΕΝ          233x\n",
      "ΔΕ          209x\n",
      "ΕΙΣ         206x\n",
      "ΟΥΝ         198x\n",
      "ΙΗΣΟΥΣ      196x\n",
      "ΑΥΤΟΝ       175x\n",
      "ΑΥΤΩ        173x\n",
      "ΑΥΤΟΥ       171x\n",
      "ΕΣΤΙΝ       166x\n",
      "ΟΥΚ         151x\n",
      "ΤΟ          147x\n",
      "ΟΙ          146x\n",
      "Η           145x\n",
      "ΙΝΑ         145x\n",
      "ΤΗΝ         143x\n"
     ]
    }
   ],
   "source": [
    "for (val, freq) in F.plain.freqList()[0:20]:\n",
    "    print(f'{val:<10} {freq:>4}x')"
   ]
  },
  {
   "cell_type": "code",
   "execution_count": 9,
   "metadata": {},
   "outputs": [
    {
     "name": "stdout",
     "output_type": "stream",
     "text": [
      "καὶ         803x\n",
      "ὁ           521x\n",
      "ὅτι         270x\n",
      "τοῦ         242x\n",
      "τὸν         238x\n",
      "ἐν          216x\n",
      "δὲ          199x\n",
      "οὖν         197x\n",
      "Ἰησοῦς      195x\n",
      "εἰς         186x\n",
      "αὐτοῦ       171x\n",
      "αὐτῷ        171x\n",
      "τὸ          147x\n",
      "ἵνα         145x\n",
      "τὴν         141x\n",
      "οἱ          136x\n",
      "οὐκ         134x\n",
      "ἐκ          133x\n",
      "λέγει       119x\n",
      "ἡ           116x\n"
     ]
    }
   ],
   "source": [
    "for (val, freq) in F.main.freqList()[0:20]:\n",
    "    print(f'{val:<10} {freq:>4}x')"
   ]
  },
  {
   "cell_type": "markdown",
   "metadata": {},
   "source": [
    "# Navigation\n",
    "\n",
    "Let's go to John 3:16.\n",
    "\n",
    "Note that we pass the section as a tuple `(book, chapter, verse)`."
   ]
  },
  {
   "cell_type": "code",
   "execution_count": 10,
   "metadata": {},
   "outputs": [
    {
     "name": "stdout",
     "output_type": "stream",
     "text": [
      "15709\n"
     ]
    }
   ],
   "source": [
    "j316 = T.nodeFromSection(('John', 3, 16))\n",
    "print(j316)"
   ]
  },
  {
   "cell_type": "markdown",
   "metadata": {},
   "source": [
    "Let's go from this verse to the surrounding chapter and book.\n",
    "\n",
    "Note that `L.u()` gives us a tuple of nodes. Mostly, going *up* yields a tuple of only one\n",
    "node.\n",
    "\n",
    "Yet,in general,\n",
    "it is conceivable that a node has multiple nodes that contain it, even of the same type.\n",
    "\n",
    "Hence, to get to the single parent, we have to put in the `[0]`."
   ]
  },
  {
   "cell_type": "code",
   "execution_count": 11,
   "metadata": {},
   "outputs": [],
   "source": [
    "j3 = L.u(j316, otype='chapter')[0]\n",
    "j = L.u(j316, otype='book')[0]"
   ]
  },
  {
   "cell_type": "markdown",
   "metadata": {},
   "source": [
    "As a check, let's print the name of the book and the number of the chapter:"
   ]
  },
  {
   "cell_type": "code",
   "execution_count": 12,
   "metadata": {},
   "outputs": [
    {
     "name": "stdout",
     "output_type": "stream",
     "text": [
      "The book is John\n",
      "The chapter is 3\n",
      "The verse is 16\n"
     ]
    }
   ],
   "source": [
    "print(f'The book is {F.book.v(j)}')\n",
    "print(f'The chapter is {F.chapter.v(j3)}')\n",
    "print(f'The verse is {F.verse.v(j316)}')"
   ]
  },
  {
   "cell_type": "markdown",
   "metadata": {},
   "source": [
    "# Text formats\n",
    "\n",
    "Which text formats do we have in our datasets?"
   ]
  },
  {
   "cell_type": "code",
   "execution_count": 13,
   "metadata": {},
   "outputs": [
    {
     "data": {
      "text/plain": [
       "{'text-orig-full', 'text-orig-main', 'text-orig-plain'}"
      ]
     },
     "execution_count": 13,
     "metadata": {},
     "output_type": "execute_result"
    }
   ],
   "source": [
    "T.formats"
   ]
  },
  {
   "cell_type": "markdown",
   "metadata": {},
   "source": [
    "Let's print some text. John 3:16 comes to mind. We do it in all formats.\n",
    "We also print the verse label. We only need the node of the verse to get started.\n",
    "\n",
    "We wrap the whole thing in a function, that takes a section tuple as input.\n",
    "Optionally you can specify in which formats you want the text printed, but if you don't,\n",
    "you get all formats."
   ]
  },
  {
   "cell_type": "code",
   "execution_count": 27,
   "metadata": {},
   "outputs": [],
   "source": [
    "def printVerse(section, fmts=None, hideFmt=False):\n",
    "    node = T.nodeFromSection(section)\n",
    "    print('{} {}:{}'.format(*section))\n",
    "    words = L.d(node, otype='word')\n",
    "    for fmt in T.formats if fmts is None else fmts:\n",
    "        if not hideFmt:\n",
    "            print(f'--- {fmt} ---')\n",
    "        print(T.text(words, fmt=fmt))\n",
    "        print('')"
   ]
  },
  {
   "cell_type": "code",
   "execution_count": 28,
   "metadata": {},
   "outputs": [
    {
     "name": "stdout",
     "output_type": "stream",
     "text": [
      "John 3:16\n",
      "--- text-orig-main ---\n",
      "Οὕτως γὰρ ἠγάπησεν ὁ θεὸς τὸν κόσμον ὥστε τὸν υἱὸν τὸν μονογενῆ ἔδωκεν ἵνα πᾶς ὁ πιστεύων εἰς αὐτὸν μὴ ἀπόληται ἀλλὰ ἔχῃ ζωὴν αἰώνιον \n",
      "\n",
      "--- text-orig-plain ---\n",
      "ΟΥΤΩΣ ΓΑΡ ΗΓΑΠΗΣΕΝ Ο ΘΕΟΣ ΤΟΝ ΚΟΣΜΟΝ ΩΣΤΕ ΤΟΝ ΥΙΟΝ ΤΟΝ ΜΟΝΟΓΕΝΗ ΕΔΩΚΕΝ ΙΝΑ ΠΑΣ Ο ΠΙΣΤΕΥΩΝ ΕΙΣ ΑΥΤΟΝ ΜΗ ΑΠΟΛΗΤΑΙ ΑΛΛΑ ΕΧΗ ΖΩΗΝ ΑΙΩΝΙΟΝ \n",
      "\n",
      "--- text-orig-full ---\n",
      "Οὕτως  γὰρ  ἠγάπησεν  ὁ  θεὸς  τὸν  κόσμον  ὥστε  τὸν  υἱὸν  τὸν  μονογενῆ  ἔδωκεν,  ἵνα  πᾶς  ὁ  πιστεύων  εἰς  αὐτὸν  μὴ  ἀπόληται  ἀλλὰ  ἔχῃ  ζωὴν  αἰώνιον.  \n",
      "\n"
     ]
    }
   ],
   "source": [
    "printVerse(('John', 3, 16))"
   ]
  },
  {
   "cell_type": "markdown",
   "metadata": {},
   "source": [
    "Print the whole chapter in text-orig-main format."
   ]
  },
  {
   "cell_type": "code",
   "execution_count": 29,
   "metadata": {},
   "outputs": [
    {
     "name": "stdout",
     "output_type": "stream",
     "text": [
      "John 3:1\n",
      "Ἦν δὲ ἄνθρωπος ἐκ τῶν Φαρισαίων Νικόδημος ὄνομα αὐτῷ ἄρχων τῶν Ἰουδαίων \n",
      "\n",
      "John 3:2\n",
      "οὗτος ἦλθεν πρὸς αὐτὸν νυκτὸς καὶ εἶπεν αὐτῷ Ῥαββεί οἴδαμεν ὅτι ἀπὸ θεοῦ ἐλήλυθας διδάσκαλος οὐδεὶς γὰρ δύναται ταῦτα τὰ σημεῖα ποιεῖν ἃ σὺ ποιεῖς ἐὰν μὴ ᾖ ὁ θεὸς μετʼ αὐτοῦ \n",
      "\n",
      "John 3:3\n",
      "ἀπεκρίθη Ἰησοῦς καὶ εἶπεν αὐτῷ Ἀμὴν ἀμὴν λέγω σοι ἐὰν μή τις γεννηθῇ ἄνωθεν οὐ δύναται ἰδεῖν τὴν βασιλείαν τοῦ θεοῦ \n",
      "\n",
      "John 3:4\n",
      "λέγει πρὸς αὐτὸν ὁ Νικόδημος Πῶς δύναται ἄνθρωπος γεννηθῆναι γέρων ὤν μὴ δύναται εἰς τὴν κοιλίαν τῆς μητρὸς αὐτοῦ δεύτερον εἰσελθεῖν καὶ γεννηθῆναι \n",
      "\n",
      "John 3:5\n",
      "ἀπεκρίθη ὁ Ἰησοῦς Ἀμὴν ἀμὴν λέγω σοι ἐὰν μή τις γεννηθῇ ἐξ ὕδατος καὶ πνεύματος οὐ δύναται εἰσελθεῖν εἰς τὴν βασιλείαν τοῦ θεοῦ \n",
      "\n",
      "John 3:6\n",
      "τὸ γεγεννημένον ἐκ τῆς σαρκὸς σάρξ ἐστιν καὶ τὸ γεγεννημένον ἐκ τοῦ πνεύματος πνεῦμά ἐστιν \n",
      "\n",
      "John 3:7\n",
      "μὴ θαυμάσῃς ὅτι εἶπόν σοι Δεῖ ὑμᾶς γεννηθῆναι ἄνωθεν \n",
      "\n",
      "John 3:8\n",
      "τὸ πνεῦμα ὅπου θέλει πνεῖ καὶ τὴν φωνὴν αὐτοῦ ἀκούεις ἀλλʼ οὐκ οἶδας πόθεν ἔρχεται καὶ ποῦ ὑπάγει οὕτως ἐστὶν πᾶς ὁ γεγεννημένος ἐκ τοῦ πνεύματος \n",
      "\n",
      "John 3:9\n",
      "ἀπεκρίθη Νικόδημος καὶ εἶπεν αὐτῷ Πῶς δύναται ταῦτα γενέσθαι \n",
      "\n",
      "John 3:10\n",
      "ἀπεκρίθη Ἰησοῦς καὶ εἶπεν αὐτῷ Σὺ εἶ ὁ διδάσκαλος τοῦ Ἰσραὴλ καὶ ταῦτα οὐ γινώσκεις \n",
      "\n",
      "John 3:11\n",
      "ἀμὴν ἀμὴν λέγω σοι ὅτι ὃ οἴδαμεν λαλοῦμεν καὶ ὃ ἑωράκαμεν μαρτυροῦμεν καὶ τὴν μαρτυρίαν ἡμῶν οὐ λαμβάνετε \n",
      "\n",
      "John 3:12\n",
      "εἰ τὰ ἐπίγεια εἶπον ὑμῖν καὶ οὐ πιστεύετε πῶς ἐὰν εἴπω ὑμῖν τὰ ἐπουράνια πιστεύσετε \n",
      "\n",
      "John 3:13\n",
      "καὶ οὐδεὶς ἀναβέβηκεν εἰς τὸν οὐρανὸν εἰ μὴ ὁ ἐκ τοῦ οὐρανοῦ καταβάς ὁ υἱὸς τοῦ ἀνθρώπου \n",
      "\n",
      "John 3:14\n",
      "καὶ καθὼς Μωυσῆς ὕψωσεν τὸν ὄφιν ἐν τῇ ἐρήμῳ οὕτως ὑψωθῆναι δεῖ τὸν υἱὸν τοῦ ἀνθρώπου \n",
      "\n",
      "John 3:15\n",
      "ἵνα πᾶς ὁ πιστεύων ἐν αὐτῷ ἔχῃ ζωὴν αἰώνιον \n",
      "\n",
      "John 3:16\n",
      "Οὕτως γὰρ ἠγάπησεν ὁ θεὸς τὸν κόσμον ὥστε τὸν υἱὸν τὸν μονογενῆ ἔδωκεν ἵνα πᾶς ὁ πιστεύων εἰς αὐτὸν μὴ ἀπόληται ἀλλὰ ἔχῃ ζωὴν αἰώνιον \n",
      "\n",
      "John 3:17\n",
      "οὐ γὰρ ἀπέστειλεν ὁ θεὸς τὸν υἱὸν εἰς τὸν κόσμον ἵνα κρίνῃ τὸν κόσμον ἀλλʼ ἵνα σωθῇ ὁ κόσμος διʼ αὐτοῦ \n",
      "\n",
      "John 3:18\n",
      "ὁ πιστεύων εἰς αὐτὸν οὐ κρίνεται ὁ μὴ πιστεύων ἤδη κέκριται ὅτι μὴ πεπίστευκεν εἰς τὸ ὄνομα τοῦ μονογενοῦς υἱοῦ τοῦ θεοῦ \n",
      "\n",
      "John 3:19\n",
      "αὕτη δέ ἐστιν ἡ κρίσις ὅτι τὸ φῶς ἐλήλυθεν εἰς τὸν κόσμον καὶ ἠγάπησαν οἱ ἄνθρωποι μᾶλλον τὸ σκότος ἢ τὸ φῶς ἦν γὰρ αὐτῶν πονηρὰ τὰ ἔργα \n",
      "\n",
      "John 3:20\n",
      "πᾶς γὰρ ὁ φαῦλα πράσσων μισεῖ τὸ φῶς καὶ οὐκ ἔρχεται πρὸς τὸ φῶς ἵνα μὴ ἐλεγχθῇ τὰ ἔργα αὐτοῦ \n",
      "\n",
      "John 3:21\n",
      "ὁ δὲ ποιῶν τὴν ἀλήθειαν ἔρχεται πρὸς τὸ φῶς ἵνα φανερωθῇ αὐτοῦ τὰ ἔργα ὅτι ἐν θεῷ ἐστὶν εἰργασμένα \n",
      "\n",
      "John 3:22\n",
      "Μετὰ ταῦτα ἦλθεν ὁ Ἰησοῦς καὶ οἱ μαθηταὶ αὐτοῦ εἰς τὴν Ἰουδαίαν γῆν καὶ ἐκεῖ διέτριβεν μετʼ αὐτῶν καὶ ἐβάπτιζεν \n",
      "\n",
      "John 3:23\n",
      "ἦν δὲ καὶ ὁ Ἰωάνης βαπτίζων ἐν Αἰνὼν ἐγγὺς τοῦ Σαλείμ ὅτι ὕδατα πολλὰ ἦν ἐκεῖ καὶ παρεγίνοντο καὶ ἐβαπτίζοντο \n",
      "\n",
      "John 3:24\n",
      "οὔπω γὰρ ἦν βεβλημένος εἰς τὴν φυλακὴν Ἰωάνης \n",
      "\n",
      "John 3:25\n",
      "Ἐγένετο οὖν ζήτησις ἐκ τῶν μαθητῶν Ἰωάνου μετὰ Ἰουδαίου περὶ καθαρισμοῦ \n",
      "\n",
      "John 3:26\n",
      "καὶ ἦλθαν πρὸς τὸν Ἰωάνην καὶ εἶπαν αὐτῷ Ῥαββεί ὃς ἦν μετὰ σοῦ πέραν τοῦ Ἰορδάνου ᾧ σὺ μεμαρτύρηκας ἴδε οὗτος βαπτίζει καὶ πάντες ἔρχονται πρὸς αὐτόν \n",
      "\n",
      "John 3:27\n",
      "ἀπεκρίθη Ἰωάνης καὶ εἶπεν Οὐ δύναται ἄνθρωπος λαμβάνειν οὐδὲν ἐὰν μὴ ᾖ δεδομένον αὐτῷ ἐκ τοῦ οὐρανοῦ \n",
      "\n",
      "John 3:28\n",
      "αὐτοὶ ὑμεῖς μοι μαρτυρεῖτε ὅτι εἶπον ἐγώ Οὐκ εἰμὶ ἐγὼ ὁ χριστός ἀλλʼ ὅτι Ἀπεσταλμένος εἰμὶ ἔμπροσθεν ἐκείνου \n",
      "\n",
      "John 3:29\n",
      "ὁ ἔχων τὴν νύμφην νυμφίος ἐστίν ὁ δὲ φίλος τοῦ νυμφίου ὁ ἑστηκὼς καὶ ἀκούων αὐτοῦ χαρᾷ χαίρει διὰ τὴν φωνὴν τοῦ νυμφίου αὕτη οὖν ἡ χαρὰ ἡ ἐμὴ πεπλήρωται \n",
      "\n",
      "John 3:30\n",
      "ἐκεῖνον δεῖ αὐξάνειν ἐμὲ δὲ ἐλαττοῦσθαι \n",
      "\n",
      "John 3:31\n",
      "Ὁ ἄνωθεν ἐρχόμενος ἐπάνω πάντων ἐστίν ὁ ὢν ἐκ τῆς γῆς ἐκ τῆς γῆς ἐστὶν καὶ ἐκ τῆς γῆς λαλεῖ ὁ ἐκ τοῦ οὐρανοῦ ἐρχόμενος ἐπάνω πάντων ἐστίν \n",
      "\n",
      "John 3:32\n",
      "ὃ ἑώρακεν καὶ ἤκουσεν τοῦτο μαρτυρεῖ καὶ τὴν μαρτυρίαν αὐτοῦ οὐδεὶς λαμβάνει \n",
      "\n",
      "John 3:33\n",
      "ὁ λαβὼν αὐτοῦ τὴν μαρτυρίαν ἐσφράγισεν ὅτι ὁ θεὸς ἀληθής ἐστιν \n",
      "\n",
      "John 3:34\n",
      "ὃν γὰρ ἀπέστειλεν ὁ θεὸς τὰ ῥήματα τοῦ θεοῦ λαλεῖ οὐ γὰρ ἐκ μέτρου δίδωσιν τὸ πνεῦμα \n",
      "\n",
      "John 3:35\n",
      "ὁ πατὴρ ἀγαπᾷ τὸν υἱόν καὶ πάντα δέδωκεν ἐν τῇ χειρὶ αὐτοῦ \n",
      "\n",
      "John 3:36\n",
      "ὁ πιστεύων εἰς τὸν υἱὸν ἔχει ζωὴν αἰώνιον ὁ δὲ ἀπειθῶν τῷ υἱῷ οὐκ ὄψεται ζωήν ἀλλʼ ἡ ὀργὴ τοῦ θεοῦ μένει ἐπʼ αὐτόν \n",
      "\n"
     ]
    }
   ],
   "source": [
    "chapter = T.nodeFromSection(('John', 3))\n",
    "for verse in L.d(chapter, otype='verse'):\n",
    "    section = T.sectionFromNode(verse)\n",
    "    printVerse(section, fmts={'text-orig-main'}, hideFmt=True)"
   ]
  },
  {
   "cell_type": "code",
   "execution_count": null,
   "metadata": {},
   "outputs": [],
   "source": []
  }
 ],
 "metadata": {
  "kernelspec": {
   "display_name": "Python 3",
   "language": "python",
   "name": "python3"
  },
  "language_info": {
   "codemirror_mode": {
    "name": "ipython",
    "version": 3
   },
   "file_extension": ".py",
   "mimetype": "text/x-python",
   "name": "python",
   "nbconvert_exporter": "python",
   "pygments_lexer": "ipython3",
   "version": "3.7.0"
  }
 },
 "nbformat": 4,
 "nbformat_minor": 2
}

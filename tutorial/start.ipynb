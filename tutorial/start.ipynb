{
 "cells": [
  {
   "cell_type": "markdown",
   "metadata": {},
   "source": [
    "# Tutorial\n",
    "\n",
    "Start with a cell that enables live reloading: if you change imported modules,\n",
    "the changes will be effective without restarting the notebook."
   ]
  },
  {
   "cell_type": "code",
   "execution_count": 1,
   "metadata": {},
   "outputs": [],
   "source": [
    "%load_ext autoreload\n",
    "%autoreload 2"
   ]
  },
  {
   "cell_type": "markdown",
   "metadata": {},
   "source": [
    "Import Text-Fabric"
   ]
  },
  {
   "cell_type": "code",
   "execution_count": 2,
   "metadata": {},
   "outputs": [],
   "source": [
    "from tf.fabric import Fabric"
   ]
  },
  {
   "cell_type": "markdown",
   "metadata": {},
   "source": [
    "Put in a few sign posts to directories on your computer."
   ]
  },
  {
   "cell_type": "code",
   "execution_count": 3,
   "metadata": {},
   "outputs": [],
   "source": [
    "REPO = '~/github/pthu/pilot'"
   ]
  },
  {
   "cell_type": "markdown",
   "metadata": {},
   "source": [
    "Start Text-Fabric and let it look in the relevant data directories."
   ]
  },
  {
   "cell_type": "code",
   "execution_count": 4,
   "metadata": {},
   "outputs": [
    {
     "name": "stdout",
     "output_type": "stream",
     "text": [
      "This is Text-Fabric 5.5.11\n",
      "Api reference : https://dans-labs.github.io/text-fabric/Api/General/\n",
      "Tutorial      : https://github.com/Dans-labs/text-fabric/blob/master/docs/tutorial.ipynb\n",
      "Example data  : https://github.com/Dans-labs/text-fabric-data\n",
      "\n",
      "14 features found and 0 ignored\n"
     ]
    }
   ],
   "source": [
    "TF = Fabric(locations=REPO, modules=['tf'])"
   ]
  },
  {
   "cell_type": "markdown",
   "metadata": {},
   "source": [
    "Load all features that TF has found."
   ]
  },
  {
   "cell_type": "code",
   "execution_count": 6,
   "metadata": {},
   "outputs": [],
   "source": [
    "api = TF.load('', silent=True)\n",
    "allFeatures = TF.explore(silent=True, show=True)\n",
    "loadableFeatures = allFeatures['nodes'] + allFeatures['edges']\n",
    "TF.load(loadableFeatures, add=True, silent=True)\n",
    "api.makeAvailableIn(globals())"
   ]
  },
  {
   "cell_type": "markdown",
   "metadata": {},
   "source": [
    "# Feature analysis\n",
    "\n",
    "Let's explore the values of some features and show their frequencies, especially the potentially\n",
    "troublesome features that contain non-letter material at the start and end of words."
   ]
  },
  {
   "cell_type": "code",
   "execution_count": 7,
   "metadata": {},
   "outputs": [
    {
     "name": "stdout",
     "output_type": "stream",
     "text": [
      "[            74x\n",
      "—             7x\n",
      "?̔            4x\n",
      "⟦             1x\n"
     ]
    }
   ],
   "source": [
    "for (val, freq) in F.pre.freqList():\n",
    "    print(f'{val:<10} {freq:>4}x')"
   ]
  },
  {
   "cell_type": "code",
   "execution_count": 8,
   "metadata": {},
   "outputs": [
    {
     "name": "stdout",
     "output_type": "stream",
     "text": [
      "           13546x\n",
      ",           816x\n",
      ".           679x\n",
      "·           295x\n",
      ";           170x\n",
      "]            68x\n",
      "].            3x\n",
      "̓.            3x\n",
      ".]            2x\n",
      "?̔            2x\n",
      "*             1x\n",
      ",             1x\n",
      ",—            1x\n",
      ".⟧            1x\n",
      "?̓            1x\n",
      "[,            1x\n",
      "],            1x\n",
      "]·            1x\n",
      "·?̔           1x\n",
      "·̓            1x\n"
     ]
    }
   ],
   "source": [
    "for (val, freq) in F.post.freqList():\n",
    "    print(f'{val:<10} {freq:>4}x')"
   ]
  },
  {
   "cell_type": "markdown",
   "metadata": {},
   "source": [
    "We can show frequency lists of more interesting features as well:"
   ]
  },
  {
   "cell_type": "code",
   "execution_count": 9,
   "metadata": {},
   "outputs": [
    {
     "name": "stdout",
     "output_type": "stream",
     "text": [
      "ΚΑΙ         827x\n",
      "Ο           583x\n",
      "ΟΤΙ         274x\n",
      "ΤΟΥ         242x\n",
      "ΤΟΝ         240x\n",
      "ΕΝ          233x\n",
      "ΔΕ          209x\n",
      "ΕΙΣ         206x\n",
      "ΟΥΝ         198x\n",
      "ΙΗΣΟΥΣ      196x\n",
      "ΑΥΤΟΝ       175x\n",
      "ΑΥΤΩ        173x\n",
      "ΑΥΤΟΥ       171x\n",
      "ΕΣΤΙΝ       166x\n",
      "ΟΥΚ         151x\n",
      "ΤΟ          147x\n",
      "ΟΙ          146x\n",
      "Η           145x\n",
      "ΙΝΑ         145x\n",
      "ΤΗΝ         143x\n"
     ]
    }
   ],
   "source": [
    "for (val, freq) in F.plain.freqList()[0:20]:\n",
    "    print(f'{val:<10} {freq:>4}x')"
   ]
  },
  {
   "cell_type": "code",
   "execution_count": 10,
   "metadata": {},
   "outputs": [
    {
     "name": "stdout",
     "output_type": "stream",
     "text": [
      "καὶ         803x\n",
      "ὁ           521x\n",
      "ὅτι         270x\n",
      "τοῦ         242x\n",
      "τὸν         238x\n",
      "ἐν          216x\n",
      "δὲ          199x\n",
      "οὖν         197x\n",
      "Ἰησοῦς      195x\n",
      "εἰς         186x\n",
      "αὐτοῦ       171x\n",
      "αὐτῷ        171x\n",
      "τὸ          147x\n",
      "ἵνα         145x\n",
      "τὴν         141x\n",
      "οἱ          136x\n",
      "οὐκ         134x\n",
      "ἐκ          133x\n",
      "λέγει       119x\n",
      "ἡ           116x\n"
     ]
    }
   ],
   "source": [
    "for (val, freq) in F.main.freqList()[0:20]:\n",
    "    print(f'{val:<10} {freq:>4}x')"
   ]
  },
  {
   "cell_type": "markdown",
   "metadata": {},
   "source": [
    "# Navigation\n",
    "\n",
    "Let's go to John 3:16.\n",
    "\n",
    "Note that we pass the section as a tuple `(book, chapter, verse)`."
   ]
  },
  {
   "cell_type": "code",
   "execution_count": 11,
   "metadata": {},
   "outputs": [
    {
     "name": "stdout",
     "output_type": "stream",
     "text": [
      "15709\n"
     ]
    }
   ],
   "source": [
    "j316 = T.nodeFromSection(('John', 3, 16))\n",
    "print(j316)"
   ]
  },
  {
   "cell_type": "markdown",
   "metadata": {},
   "source": [
    "Let's go from this verse to the surrounding chapter and book.\n",
    "\n",
    "Note that `L.u()` gives us a tuple of nodes. Mostly, going *up* yields a tuple of only one\n",
    "node.\n",
    "\n",
    "Yet,in general,\n",
    "it is conceivable that a node has multiple nodes that contain it, even of the same type.\n",
    "\n",
    "Hence, to get to the single parent, we have to put in the `[0]`."
   ]
  },
  {
   "cell_type": "code",
   "execution_count": 12,
   "metadata": {},
   "outputs": [],
   "source": [
    "j3 = L.u(j316, otype='chapter')[0]\n",
    "j = L.u(j316, otype='book')[0]"
   ]
  },
  {
   "cell_type": "markdown",
   "metadata": {},
   "source": [
    "As a check, let's print the name of the book and the number of the chapter:"
   ]
  },
  {
   "cell_type": "code",
   "execution_count": 13,
   "metadata": {},
   "outputs": [
    {
     "name": "stdout",
     "output_type": "stream",
     "text": [
      "The book is John\n",
      "The chapter is 3\n",
      "The verse is 16\n"
     ]
    }
   ],
   "source": [
    "print(f'The book is {F.book.v(j)}')\n",
    "print(f'The chapter is {F.chapter.v(j3)}')\n",
    "print(f'The verse is {F.verse.v(j316)}')"
   ]
  },
  {
   "cell_type": "markdown",
   "metadata": {},
   "source": [
    "# Text formats\n",
    "\n",
    "Which text formats do we have in our datasets?"
   ]
  },
  {
   "cell_type": "code",
   "execution_count": 14,
   "metadata": {},
   "outputs": [
    {
     "data": {
      "text/plain": [
       "{'text-orig-full', 'text-orig-main', 'text-orig-plain'}"
      ]
     },
     "execution_count": 14,
     "metadata": {},
     "output_type": "execute_result"
    }
   ],
   "source": [
    "T.formats"
   ]
  },
  {
   "cell_type": "markdown",
   "metadata": {},
   "source": [
    "Let's print some text. John 3:16 comes to mind. We do it in all formats.\n",
    "We also print the verse label. We only need the node of the verse to get started.\n",
    "\n",
    "We wrap the whole thing in a function, that takes a section tuple as input."
   ]
  },
  {
   "cell_type": "code",
   "execution_count": 19,
   "metadata": {},
   "outputs": [],
   "source": [
    "def printVerse(section):\n",
    "    node = T.nodeFromSection(section)\n",
    "    print('{} {}:{}'.format(*section))\n",
    "    words = L.d(node, otype='word')\n",
    "    for fmt in T.formats:\n",
    "        print(f'--- {fmt} ---')\n",
    "        print(T.text(words, fmt=fmt))\n",
    "        print('')"
   ]
  },
  {
   "cell_type": "code",
   "execution_count": 20,
   "metadata": {},
   "outputs": [
    {
     "name": "stdout",
     "output_type": "stream",
     "text": [
      "John 3:16\n",
      "--- text-orig-main ---\n",
      "Οὕτως γὰρ ἠγάπησεν ὁ θεὸς τὸν κόσμον ὥστε τὸν υἱὸν τὸν μονογενῆ ἔδωκεν ἵνα πᾶς ὁ πιστεύων εἰς αὐτὸν μὴ ἀπόληται ἀλλὰ ἔχῃ ζωὴν αἰώνιον \n",
      "\n",
      "--- text-orig-plain ---\n",
      "ΟΥΤΩΣ ΓΑΡ ΗΓΑΠΗΣΕΝ Ο ΘΕΟΣ ΤΟΝ ΚΟΣΜΟΝ ΩΣΤΕ ΤΟΝ ΥΙΟΝ ΤΟΝ ΜΟΝΟΓΕΝΗ ΕΔΩΚΕΝ ΙΝΑ ΠΑΣ Ο ΠΙΣΤΕΥΩΝ ΕΙΣ ΑΥΤΟΝ ΜΗ ΑΠΟΛΗΤΑΙ ΑΛΛΑ ΕΧΗ ΖΩΗΝ ΑΙΩΝΙΟΝ \n",
      "\n",
      "--- text-orig-full ---\n",
      "Οὕτως γὰρ ἠγάπησεν ὁ θεὸς τὸν κόσμον ὥστε τὸν υἱὸν τὸν μονογενῆ ἔδωκεν, ἵνα πᾶς ὁ πιστεύων εἰς αὐτὸν μὴ ἀπόληται ἀλλὰ ἔχῃ ζωὴν αἰώνιον. \n",
      "\n"
     ]
    }
   ],
   "source": [
    "printVerse(('John', 3, 16))"
   ]
  },
  {
   "cell_type": "code",
   "execution_count": null,
   "metadata": {},
   "outputs": [],
   "source": []
  }
 ],
 "metadata": {
  "kernelspec": {
   "display_name": "Python 3",
   "language": "python",
   "name": "python3"
  },
  "language_info": {
   "codemirror_mode": {
    "name": "ipython",
    "version": 3
   },
   "file_extension": ".py",
   "mimetype": "text/x-python",
   "name": "python",
   "nbconvert_exporter": "python",
   "pygments_lexer": "ipython3",
   "version": "3.7.0"
  }
 },
 "nbformat": 4,
 "nbformat_minor": 2
}
